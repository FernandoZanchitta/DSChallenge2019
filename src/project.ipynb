{
 "cells": [
  {
   "attachments": {},
   "cell_type": "markdown",
   "id": "b62a449a",
   "metadata": {},
   "source": [
    "# Projeto de PO-233 \n",
    "Este projeto busca realizar análise do problema proposto pelo Data Science Challenge 2019 - ITA.\n",
    "\n",
    "##### Alunos:\n",
    "- Fernando Zanchitta\n",
    "- Davi Xie\n",
    "- Hugo Timóteo\n",
    "\n",
    "##### Dados\n",
    "Os dados podem ser adquiridos no site: https://www.kaggle.com/competitions/data-science-challenge-at-eef-2019/data\n",
    "\n"
   ]
  },
  {
   "attachments": {},
   "cell_type": "markdown",
   "id": "d482983d",
   "metadata": {},
   "source": [
    "## Bibliotecas necessárias"
   ]
  },
  {
   "cell_type": "code",
   "execution_count": 4,
   "id": "28632eb3",
   "metadata": {},
   "outputs": [],
   "source": [
    "import pandas as pd\n",
    "import seaborn as sns\n",
    "import numpy as np\n",
    "import os\n",
    "import matplotlib.pyplot as plt\n"
   ]
  },
  {
   "attachments": {},
   "cell_type": "markdown",
   "id": "79971a5c",
   "metadata": {},
   "source": [
    "### Leitura dos conjuntos de dados:\n",
    "Os dados são lidos a partir dos arquivos $.csv$ gerados pelo _SubSampling.py_."
   ]
  },
  {
   "cell_type": "code",
   "execution_count": 5,
   "id": "8aee8881",
   "metadata": {},
   "outputs": [],
   "source": [
    "f_train = pd.read_csv('../dataset/features-training-subsampled.csv')\n",
    "f_test = pd.read_csv('../dataset/features-test-subsampled.csv')\n",
    "t_train = pd.read_csv('../dataset/target-training-subsampled.csv')"
   ]
  },
  {
   "cell_type": "code",
   "execution_count": 6,
   "id": "9de3f36d",
   "metadata": {},
   "outputs": [
    {
     "data": {
      "text/plain": [
       "Index(['id', 'property_id', 'created_on', 'operation', 'property_type',\n",
       "       'place_name', 'place_with_parent_names', 'country_name', 'state_name',\n",
       "       'geonames_id', 'lat_lon', 'lat', 'lon', 'currency',\n",
       "       'surface_total_in_m2', 'surface_covered_in_m2', 'floor', 'rooms',\n",
       "       'expenses', 'description', 'title', 'image_thumbnail', 'collected_on'],\n",
       "      dtype='object')"
      ]
     },
     "execution_count": 6,
     "metadata": {},
     "output_type": "execute_result"
    }
   ],
   "source": [
    "f_train.columns"
   ]
  },
  {
   "attachments": {},
   "cell_type": "markdown",
   "id": "be70c670",
   "metadata": {},
   "source": [
    "# Limpeza e Organização\n",
    "\n",
    "Para começar a análise exploratória dos dados deve ser feita a retirada de atributos e informações que não serão utilizadas pelo projeto, a fins de simplificação e coerência com o proposto pela disciplina.\n",
    "\n",
    "Nesse sentido vamos:\n",
    "- Retirar as colunas irrelevantes\n",
    "- Retirar as colunas de id\n",
    "- Retirar colunas redundantes"
   ]
  },
  {
   "attachments": {},
   "cell_type": "markdown",
   "id": "e4d135f5",
   "metadata": {},
   "source": [
    "#### Colunas irrelevantes"
   ]
  },
  {
   "cell_type": "code",
   "execution_count": 9,
   "id": "6a060045",
   "metadata": {},
   "outputs": [
    {
     "name": "stdout",
     "output_type": "stream",
     "text": [
      "id  :  171141\n",
      "property_id  :  161548\n",
      "created_on  :  1237\n",
      "operation  :  1\n",
      "property_type  :  4\n",
      "place_name  :  4107\n",
      "place_with_parent_names  :  5185\n",
      "state_name  :  27\n",
      "geonames_id  :  0\n",
      "lat_lon  :  34675\n",
      "lat  :  34199\n",
      "lon  :  33454\n",
      "currency  :  4\n",
      "surface_total_in_m2  :  1395\n",
      "surface_covered_in_m2  :  1161\n",
      "floor  :  127\n",
      "rooms  :  27\n",
      "expenses  :  2432\n",
      "description  :  150803\n",
      "title  :  113639\n",
      "image_thumbnail  :  155288\n",
      "collected_on  :  38\n"
     ]
    }
   ],
   "source": [
    "for column in f_train.columns:\n",
    "    print(column, ' : ', f_train[column].nunique())\n",
    "\n"
   ]
  },
  {
   "attachments": {},
   "cell_type": "markdown",
   "id": "d33812df",
   "metadata": {},
   "source": [
    "Vamos verificar os valores de algumas colunas para investigar a retirada:"
   ]
  },
  {
   "cell_type": "code",
   "execution_count": 11,
   "id": "e8c35a67",
   "metadata": {},
   "outputs": [
    {
     "name": "stdout",
     "output_type": "stream",
     "text": [
      "operation  :  ['sell']\n",
      "property_type  :  ['apartment' 'house' 'PH' 'store']\n",
      "state_name  :  ['São Paulo' 'Rio de Janeiro' 'Rio Grande do Sul' 'Goiás' 'Paraná'\n",
      " 'Paraíba' 'Santa Catarina' 'Mato Grosso do Sul' 'Minas Gerais' 'Ceará'\n",
      " 'Distrito Federal' 'Mato Grosso' 'Bahia' 'Espírito Santo' 'Pernambuco'\n",
      " 'Rio Grande do Norte' 'Alagoas' 'Amazonas' 'Piauí' 'Pará' 'Tocantins'\n",
      " 'Sergipe' 'Maranhão' 'Rondônia' 'Outros países' 'Amapá' 'Acre']\n",
      "geonames_id  :  [nan]\n",
      "currency  :  ['BRL' 'MXN' 'USD' 'COP']\n",
      "rooms  :  [ 1.  2. nan  4.  3.  5. 10.  8.  7. 17.  6. 11.  9. 13. 12. 20. 15. 18.\n",
      " 16. 14. 25. 22. 19. 21. 27. 30. 40. 24.]\n"
     ]
    }
   ],
   "source": [
    "# select unique values of columns that contain less that 30 unique values:\n",
    "filtered_columns = f_train.columns[f_train.nunique() < 30]\n",
    "\n",
    "# Get unique values for filtered columns\n",
    "unique_values = f_train[filtered_columns].apply(lambda x: x.unique()).to_dict()\n",
    "\n",
    "# Print unique values for each column\n",
    "for column, values in unique_values.items():\n",
    "    print(column, ' : ', values)"
   ]
  },
  {
   "attachments": {},
   "cell_type": "markdown",
   "id": "a639b301",
   "metadata": {},
   "source": [
    "Podemos retirar os valores de _operation_ e _geonames_id_"
   ]
  },
  {
   "cell_type": "code",
   "execution_count": 13,
   "id": "ebb2c8fa",
   "metadata": {},
   "outputs": [],
   "source": [
    "f_train = f_train.drop(['operation','geonames_id'],axis=1)\n",
    "f_test = f_test.drop(['operation','geonames_id'],axis=1)"
   ]
  },
  {
   "attachments": {},
   "cell_type": "markdown",
   "id": "cc556420",
   "metadata": {},
   "source": [
    "#### Valores identificadores"
   ]
  },
  {
   "attachments": {},
   "cell_type": "markdown",
   "id": "3b1236ec",
   "metadata": {},
   "source": [
    "Alguns atributos possuem valores únicos para cada evento, portanto não adicionam poder preditivo ao modelo. "
   ]
  },
  {
   "cell_type": "code",
   "execution_count": 18,
   "id": "741aafdf",
   "metadata": {},
   "outputs": [
    {
     "name": "stdout",
     "output_type": "stream",
     "text": [
      "created_on  :  10928\n",
      "2017-05-23\n",
      "property_type  :  111567\n",
      "apartment\n",
      "place_name  :  8101\n",
      "Praia Grande\n",
      "place_with_parent_names  :  8089\n",
      "|Brasil|São Paulo|Praia Grande|\n",
      "state_name  :  120493\n",
      "São Paulo\n",
      "lat_lon  :  844\n",
      "-30.0,-51.0\n",
      "lat  :  844\n",
      "-30.0\n",
      "lon  :  902\n",
      "-51.0\n",
      "currency  :  171105\n",
      "BRL\n",
      "surface_total_in_m2  :  2368\n",
      "0.0\n",
      "surface_covered_in_m2  :  3060\n",
      "70.0\n",
      "floor  :  920\n",
      "1.0\n",
      "rooms  :  50895\n",
      "1.0\n",
      "expenses  :  1675\n",
      "500.0\n",
      "description  :  4592\n",
      "Excelente Oportunidade!Entre em contato e agende já uma visita com um de nossos corretores. Os preços, valores e caraterísticas exibidos poderão sofrer mudanças sem aviso prévio, por este motivo todas as informações deverão ser confirmadas pelo departamento comercial. Para otimizar o seu atendimento tenha em mãos o número da referência do imóvel (código). Entre em contato preenchendo o formulário e informe sempre um telefone para receber todas as informações.\n",
      "title  :  1016\n",
      "Apartamentos Vender\n",
      "image_thumbnail  :  62\n",
      "https://thumbs4.properati.com/6/SjfE7uhxFCdNjkNpJVQH13StSuw=/trim/198x0/smart/filters:strip_icc()/www.youtube.com/watch%3Fv=Tm3VMwBNugw\n",
      "collected_on  :  8448\n",
      "2017-10\n"
     ]
    }
   ],
   "source": [
    "#check max count of each value in features:\n",
    "# verify only non nan values\n",
    "for column in f_train.columns:\n",
    "    print(column, ' : ', f_train[column].value_counts().max())\n",
    "    #print value that has max count\n",
    "    print(f_train[column].value_counts().idxmax())"
   ]
  },
  {
   "attachments": {},
   "cell_type": "markdown",
   "id": "7310df55",
   "metadata": {},
   "source": [
    "Podemos retirar os atributos: _id_ e _property_id_, pois se comportam como identificadores."
   ]
  },
  {
   "cell_type": "code",
   "execution_count": 17,
   "id": "1a4dd61e",
   "metadata": {},
   "outputs": [],
   "source": [
    "f_train = f_train.drop(['id','property_id'],axis=1)\n",
    "f_test = f_test.drop(['id','property_id'],axis=1)"
   ]
  },
  {
   "attachments": {},
   "cell_type": "markdown",
   "id": "2fa9f429",
   "metadata": {},
   "source": [
    "Por decisão de projeto, vamos retirar a coluna de _image_thumbnail_, uma vez que nossa proposta não é trabalhar com imagens."
   ]
  },
  {
   "cell_type": "code",
   "execution_count": 19,
   "id": "889c4767",
   "metadata": {},
   "outputs": [],
   "source": [
    "f_train = f_train.drop(['image_thumbnail'],axis=1)\n",
    "f_test = f_test.drop(['image_thumbnail'],axis=1)"
   ]
  },
  {
   "cell_type": "code",
   "execution_count": 20,
   "id": "33ade453",
   "metadata": {},
   "outputs": [
    {
     "data": {
      "text/plain": [
       "Index(['created_on', 'property_type', 'place_name', 'place_with_parent_names',\n",
       "       'state_name', 'lat_lon', 'lat', 'lon', 'currency',\n",
       "       'surface_total_in_m2', 'surface_covered_in_m2', 'floor', 'rooms',\n",
       "       'expenses', 'description', 'title', 'collected_on'],\n",
       "      dtype='object')"
      ]
     },
     "execution_count": 20,
     "metadata": {},
     "output_type": "execute_result"
    }
   ],
   "source": [
    "f_train.columns"
   ]
  },
  {
   "attachments": {},
   "cell_type": "markdown",
   "id": "93b9abcd",
   "metadata": {},
   "source": [
    "#### Valores faltantes"
   ]
  },
  {
   "attachments": {},
   "cell_type": "markdown",
   "id": "4ba73b97",
   "metadata": {},
   "source": []
  },
  {
   "attachments": {},
   "cell_type": "markdown",
   "id": "a90eaa0f",
   "metadata": {},
   "source": [
    "# Análise Exploratória dos dados"
   ]
  },
  {
   "attachments": {},
   "cell_type": "markdown",
   "id": "0f13cb08",
   "metadata": {},
   "source": [
    "Podemos deletar as colunas *operation* e *country_name* que representam dados redundantes.\n"
   ]
  },
  {
   "cell_type": "code",
   "execution_count": null,
   "id": "4789619e",
   "metadata": {},
   "outputs": [],
   "source": []
  },
  {
   "attachments": {},
   "cell_type": "markdown",
   "id": "c28f02df",
   "metadata": {},
   "source": [
    "# Engenharia de Atributos"
   ]
  },
  {
   "attachments": {},
   "cell_type": "markdown",
   "id": "91aac9bf",
   "metadata": {},
   "source": []
  },
  {
   "attachments": {},
   "cell_type": "markdown",
   "id": "f0ff538b",
   "metadata": {},
   "source": [
    "# Escolha de Atributos"
   ]
  },
  {
   "attachments": {},
   "cell_type": "markdown",
   "id": "4a26f1e3",
   "metadata": {},
   "source": []
  },
  {
   "attachments": {},
   "cell_type": "markdown",
   "id": "b5b1673a",
   "metadata": {},
   "source": [
    "# Treinamento e Teste"
   ]
  },
  {
   "attachments": {},
   "cell_type": "markdown",
   "id": "2b8fb507",
   "metadata": {},
   "source": []
  },
  {
   "attachments": {},
   "cell_type": "markdown",
   "id": "0019c4d5",
   "metadata": {},
   "source": [
    "# Avaliação do Modelo"
   ]
  },
  {
   "attachments": {},
   "cell_type": "markdown",
   "id": "03ee9314",
   "metadata": {},
   "source": []
  },
  {
   "attachments": {},
   "cell_type": "markdown",
   "id": "016e1124",
   "metadata": {},
   "source": [
    "# Considerações Finais"
   ]
  },
  {
   "attachments": {},
   "cell_type": "markdown",
   "id": "d3687072",
   "metadata": {},
   "source": []
  }
 ],
 "metadata": {
  "kernelspec": {
   "display_name": "Python 3 (ipykernel)",
   "language": "python",
   "name": "python3"
  },
  "language_info": {
   "codemirror_mode": {
    "name": "ipython",
    "version": 3
   },
   "file_extension": ".py",
   "mimetype": "text/x-python",
   "name": "python",
   "nbconvert_exporter": "python",
   "pygments_lexer": "ipython3",
   "version": "3.11.2"
  }
 },
 "nbformat": 4,
 "nbformat_minor": 5
}
