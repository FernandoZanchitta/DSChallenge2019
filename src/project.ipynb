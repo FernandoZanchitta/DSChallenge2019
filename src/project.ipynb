{
 "cells": [
  {
   "attachments": {},
   "cell_type": "markdown",
   "id": "b62a449a",
   "metadata": {},
   "source": [
    "# Projeto de PO-233 \n",
    "Este projeto busca realizar análise do problema proposto pelo Data Science Challenge 2019 - ITA.\n",
    "\n",
    "##### Alunos:\n",
    "- Fernando Zanchitta\n",
    "- Davi Xie\n",
    "- Hugo Timóteo\n",
    "\n",
    "##### Dados\n",
    "Os dados podem ser adquiridos no site: https://www.kaggle.com/competitions/data-science-challenge-at-eef-2019/data\n",
    "\n"
   ]
  },
  {
   "attachments": {},
   "cell_type": "markdown",
   "id": "d482983d",
   "metadata": {},
   "source": [
    "## Bibliotecas necessárias"
   ]
  },
  {
   "cell_type": "code",
   "execution_count": 52,
   "id": "28632eb3",
   "metadata": {},
   "outputs": [],
   "source": [
    "import pandas as pd\n",
    "import seaborn as sns\n",
    "import numpy as np\n",
    "import os\n",
    "import matplotlib.pyplot as plt\n"
   ]
  },
  {
   "attachments": {},
   "cell_type": "markdown",
   "id": "79971a5c",
   "metadata": {},
   "source": [
    "### Leitura dos conjuntos de dados:\n",
    "Os dados são lidos a partir dos arquivos $.csv$ gerados pelo _SubSampling.py_."
   ]
  },
  {
   "cell_type": "code",
   "execution_count": 72,
   "id": "8aee8881",
   "metadata": {},
   "outputs": [],
   "source": [
    "f_train = pd.read_csv('../dataset/features-training-subsampled.csv')\n",
    "f_test = pd.read_csv('../dataset/features-test-subsampled.csv')\n",
    "t_train = pd.read_csv('../dataset/target-training-subsampled.csv')"
   ]
  },
  {
   "cell_type": "code",
   "execution_count": 73,
   "id": "9de3f36d",
   "metadata": {},
   "outputs": [
    {
     "data": {
      "text/plain": [
       "Index(['id', 'property_id', 'created_on', 'operation', 'property_type',\n",
       "       'place_name', 'place_with_parent_names', 'country_name', 'state_name',\n",
       "       'geonames_id', 'lat_lon', 'lat', 'lon', 'currency',\n",
       "       'surface_total_in_m2', 'surface_covered_in_m2', 'floor', 'rooms',\n",
       "       'expenses', 'description', 'title', 'image_thumbnail', 'collected_on'],\n",
       "      dtype='object')"
      ]
     },
     "execution_count": 73,
     "metadata": {},
     "output_type": "execute_result"
    }
   ],
   "source": [
    "f_train.columns"
   ]
  },
  {
   "attachments": {},
   "cell_type": "markdown",
   "id": "be70c670",
   "metadata": {},
   "source": [
    "# Limpeza e Organização\n",
    "\n",
    "Para começar a análise exploratória dos dados deve ser feita a retirada de atributos e informações que não serão utilizadas pelo projeto, a fins de simplificação e coerência com o proposto pela disciplina.\n",
    "\n",
    "Nesse sentido vamos:\n",
    "- Retirar as colunas irrelevantes\n",
    "- Retirar as colunas de id\n",
    "- Retirar colunas redundantes"
   ]
  },
  {
   "attachments": {},
   "cell_type": "markdown",
   "id": "e4d135f5",
   "metadata": {},
   "source": [
    "#### Colunas irrelevantes"
   ]
  },
  {
   "cell_type": "code",
   "execution_count": 74,
   "id": "6a060045",
   "metadata": {},
   "outputs": [
    {
     "name": "stdout",
     "output_type": "stream",
     "text": [
      "id  :  855706\n",
      "property_id  :  649924\n",
      "created_on  :  1262\n",
      "operation  :  1\n",
      "property_type  :  4\n",
      "place_name  :  5078\n",
      "place_with_parent_names  :  6549\n",
      "country_name  :  1\n",
      "state_name  :  28\n",
      "geonames_id  :  0\n",
      "lat_lon  :  95074\n",
      "lat  :  92764\n",
      "lon  :  91536\n",
      "currency  :  4\n",
      "surface_total_in_m2  :  2380\n",
      "surface_covered_in_m2  :  1723\n",
      "floor  :  230\n",
      "rooms  :  36\n",
      "expenses  :  3757\n",
      "description  :  582283\n",
      "title  :  401279\n",
      "image_thumbnail  :  613700\n",
      "collected_on  :  38\n"
     ]
    }
   ],
   "source": [
    "for column in f_train.columns:\n",
    "    print(column, ' : ', f_train[column].nunique())\n",
    "\n"
   ]
  },
  {
   "attachments": {},
   "cell_type": "markdown",
   "id": "d33812df",
   "metadata": {},
   "source": [
    "Vamos verificar os valores de algumas colunas para investigar a retirada:"
   ]
  },
  {
   "cell_type": "code",
   "execution_count": 75,
   "id": "e8c35a67",
   "metadata": {},
   "outputs": [
    {
     "name": "stdout",
     "output_type": "stream",
     "text": [
      "operation  :  ['sell']\n",
      "property_type  :  ['apartment' 'house' 'PH' 'store']\n",
      "country_name  :  ['Brasil']\n",
      "state_name  :  ['São Paulo' 'Rio de Janeiro' 'Rio Grande do Sul' 'Goiás' 'Paraná'\n",
      " 'Paraíba' 'Santa Catarina' 'Mato Grosso do Sul' 'Minas Gerais' 'Ceará'\n",
      " 'Distrito Federal' 'Mato Grosso' 'Bahia' 'Espírito Santo' 'Pernambuco'\n",
      " 'Rio Grande do Norte' 'Alagoas' 'Amazonas' 'Piauí' 'Pará' 'Tocantins'\n",
      " 'Sergipe' 'Maranhão' 'Rondônia' 'Outros países' 'Amapá' 'Acre' 'Roraima']\n",
      "geonames_id  :  [nan]\n",
      "currency  :  ['BRL' 'MXN' 'USD' 'COP']\n"
     ]
    }
   ],
   "source": [
    "# select unique values of columns that contain less that 30 unique values:\n",
    "filtered_columns = f_train.columns[f_train.nunique() < 30]\n",
    "\n",
    "# Get unique values for filtered columns\n",
    "unique_values = f_train[filtered_columns].apply(lambda x: x.unique()).to_dict()\n",
    "\n",
    "# Print unique values for each column\n",
    "for column, values in unique_values.items():\n",
    "    print(column, ' : ', values)"
   ]
  },
  {
   "attachments": {},
   "cell_type": "markdown",
   "id": "a639b301",
   "metadata": {},
   "source": [
    "Podemos retirar os valores de _operation_, _country_name_ e _geonames_id_"
   ]
  },
  {
   "cell_type": "code",
   "execution_count": 76,
   "id": "ebb2c8fa",
   "metadata": {},
   "outputs": [],
   "source": [
    "f_train = f_train.drop(['operation','geonames_id','country_name'],axis=1)\n",
    "f_test = f_test.drop(['operation','geonames_id','country_name'],axis=1)"
   ]
  },
  {
   "attachments": {},
   "cell_type": "markdown",
   "id": "cc556420",
   "metadata": {},
   "source": [
    "#### Valores identificadores"
   ]
  },
  {
   "attachments": {},
   "cell_type": "markdown",
   "id": "3b1236ec",
   "metadata": {},
   "source": [
    "Alguns atributos possuem valores únicos para cada evento, portanto não adicionam poder preditivo ao modelo. "
   ]
  },
  {
   "cell_type": "code",
   "execution_count": 77,
   "id": "741aafdf",
   "metadata": {},
   "outputs": [
    {
     "name": "stdout",
     "output_type": "stream",
     "text": [
      "id  :  1\n",
      "8082860\n",
      "property_id  :  8\n",
      "340a423d3a24f43703df3b470a98f8b5e2a813ca\n",
      "created_on  :  54777\n",
      "2017-05-23\n",
      "property_type  :  556223\n",
      "apartment\n",
      "place_name  :  40420\n",
      "Praia Grande\n",
      "place_with_parent_names  :  40336\n",
      "|Brasil|São Paulo|Praia Grande|\n",
      "state_name  :  602997\n",
      "São Paulo\n",
      "lat_lon  :  4189\n",
      "-30.0,-51.0\n",
      "lat  :  4189\n",
      "-30.0\n",
      "lon  :  4532\n",
      "-51.0\n",
      "currency  :  855531\n",
      "BRL\n",
      "surface_total_in_m2  :  11919\n",
      "0.0\n",
      "surface_covered_in_m2  :  15250\n",
      "70.0\n",
      "floor  :  4608\n",
      "1.0\n",
      "rooms  :  254288\n",
      "1.0\n",
      "expenses  :  8103\n",
      "500.0\n",
      "description  :  22434\n",
      "Excelente Oportunidade!Entre em contato e agende já uma visita com um de nossos corretores. Os preços, valores e caraterísticas exibidos poderão sofrer mudanças sem aviso prévio, por este motivo todas as informações deverão ser confirmadas pelo departamento comercial. Para otimizar o seu atendimento tenha em mãos o número da referência do imóvel (código). Entre em contato preenchendo o formulário e informe sempre um telefone para receber todas as informações.\n",
      "title  :  5133\n",
      "Apartamentos Vender\n",
      "image_thumbnail  :  298\n",
      "https://thumbs4.properati.com/6/SjfE7uhxFCdNjkNpJVQH13StSuw=/trim/198x0/smart/filters:strip_icc()/www.youtube.com/watch%3Fv=Tm3VMwBNugw\n",
      "collected_on  :  41978\n",
      "2017-10\n"
     ]
    }
   ],
   "source": [
    "#check max count of each value in features:\n",
    "# verify only non nan values\n",
    "for column in f_train.columns:\n",
    "    print(column, ' : ', f_train[column].value_counts().max())\n",
    "    #print value that has max count\n",
    "    print(f_train[column].value_counts().idxmax())"
   ]
  },
  {
   "attachments": {},
   "cell_type": "markdown",
   "id": "7310df55",
   "metadata": {},
   "source": [
    "Podemos retirar os atributos: _id_ e _property_id_, pois se comportam como identificadores."
   ]
  },
  {
   "cell_type": "code",
   "execution_count": 78,
   "id": "1a4dd61e",
   "metadata": {},
   "outputs": [],
   "source": [
    "f_train = f_train.drop(['id','property_id'],axis=1)\n",
    "f_test = f_test.drop(['id','property_id'],axis=1)"
   ]
  },
  {
   "attachments": {},
   "cell_type": "markdown",
   "id": "2fa9f429",
   "metadata": {},
   "source": [
    "Por decisão de projeto, vamos retirar a coluna de _image_thumbnail_, uma vez que nossa proposta não é trabalhar com imagens."
   ]
  },
  {
   "cell_type": "code",
   "execution_count": 79,
   "id": "889c4767",
   "metadata": {},
   "outputs": [],
   "source": [
    "f_train = f_train.drop(['image_thumbnail'],axis=1)\n",
    "f_test = f_test.drop(['image_thumbnail'],axis=1)"
   ]
  },
  {
   "cell_type": "code",
   "execution_count": 80,
   "id": "33ade453",
   "metadata": {},
   "outputs": [
    {
     "data": {
      "text/plain": [
       "Index(['created_on', 'property_type', 'place_name', 'place_with_parent_names',\n",
       "       'state_name', 'lat_lon', 'lat', 'lon', 'currency',\n",
       "       'surface_total_in_m2', 'surface_covered_in_m2', 'floor', 'rooms',\n",
       "       'expenses', 'description', 'title', 'collected_on'],\n",
       "      dtype='object')"
      ]
     },
     "execution_count": 80,
     "metadata": {},
     "output_type": "execute_result"
    }
   ],
   "source": [
    "f_train.columns"
   ]
  },
  {
   "attachments": {},
   "cell_type": "markdown",
   "id": "93b9abcd",
   "metadata": {},
   "source": [
    "#### Valores faltantes"
   ]
  },
  {
   "cell_type": "code",
   "execution_count": 81,
   "id": "4ba73b97",
   "metadata": {},
   "outputs": [],
   "source": [
    "# count nan values for each feature, percentage of nan values and type of feature:        \n",
    "missing_values = pd.DataFrame(data={\n",
    "    'Feature_name': f_train.columns,\n",
    "    'missing_values': f_train.isnull().sum(),\n",
    "    'percentage': f_train.isnull().sum() / len(f_train) * 100,\n",
    "    'type': f_train.dtypes\n",
    "})"
   ]
  },
  {
   "cell_type": "code",
   "execution_count": 82,
   "id": "50983971",
   "metadata": {},
   "outputs": [
    {
     "data": {
      "text/html": [
       "<div>\n",
       "<style scoped>\n",
       "    .dataframe tbody tr th:only-of-type {\n",
       "        vertical-align: middle;\n",
       "    }\n",
       "\n",
       "    .dataframe tbody tr th {\n",
       "        vertical-align: top;\n",
       "    }\n",
       "\n",
       "    .dataframe thead th {\n",
       "        text-align: right;\n",
       "    }\n",
       "</style>\n",
       "<table border=\"1\" class=\"dataframe\">\n",
       "  <thead>\n",
       "    <tr style=\"text-align: right;\">\n",
       "      <th></th>\n",
       "      <th>Feature_name</th>\n",
       "      <th>missing_values</th>\n",
       "      <th>percentage</th>\n",
       "      <th>type</th>\n",
       "    </tr>\n",
       "  </thead>\n",
       "  <tbody>\n",
       "    <tr>\n",
       "      <th>lat_lon</th>\n",
       "      <td>lat_lon</td>\n",
       "      <td>431168</td>\n",
       "      <td>50.387399</td>\n",
       "      <td>object</td>\n",
       "    </tr>\n",
       "    <tr>\n",
       "      <th>lat</th>\n",
       "      <td>lat</td>\n",
       "      <td>431168</td>\n",
       "      <td>50.387399</td>\n",
       "      <td>float64</td>\n",
       "    </tr>\n",
       "    <tr>\n",
       "      <th>lon</th>\n",
       "      <td>lon</td>\n",
       "      <td>431167</td>\n",
       "      <td>50.387283</td>\n",
       "      <td>float64</td>\n",
       "    </tr>\n",
       "    <tr>\n",
       "      <th>surface_total_in_m2</th>\n",
       "      <td>surface_total_in_m2</td>\n",
       "      <td>648624</td>\n",
       "      <td>75.799866</td>\n",
       "      <td>float64</td>\n",
       "    </tr>\n",
       "    <tr>\n",
       "      <th>surface_covered_in_m2</th>\n",
       "      <td>surface_covered_in_m2</td>\n",
       "      <td>203874</td>\n",
       "      <td>23.825239</td>\n",
       "      <td>float64</td>\n",
       "    </tr>\n",
       "    <tr>\n",
       "      <th>floor</th>\n",
       "      <td>floor</td>\n",
       "      <td>818281</td>\n",
       "      <td>95.626418</td>\n",
       "      <td>float64</td>\n",
       "    </tr>\n",
       "    <tr>\n",
       "      <th>rooms</th>\n",
       "      <td>rooms</td>\n",
       "      <td>293755</td>\n",
       "      <td>34.328963</td>\n",
       "      <td>float64</td>\n",
       "    </tr>\n",
       "    <tr>\n",
       "      <th>expenses</th>\n",
       "      <td>expenses</td>\n",
       "      <td>570255</td>\n",
       "      <td>66.641463</td>\n",
       "      <td>float64</td>\n",
       "    </tr>\n",
       "    <tr>\n",
       "      <th>description</th>\n",
       "      <td>description</td>\n",
       "      <td>2</td>\n",
       "      <td>0.000234</td>\n",
       "      <td>object</td>\n",
       "    </tr>\n",
       "  </tbody>\n",
       "</table>\n",
       "</div>"
      ],
      "text/plain": [
       "                                Feature_name  missing_values  percentage  \\\n",
       "lat_lon                              lat_lon          431168   50.387399   \n",
       "lat                                      lat          431168   50.387399   \n",
       "lon                                      lon          431167   50.387283   \n",
       "surface_total_in_m2      surface_total_in_m2          648624   75.799866   \n",
       "surface_covered_in_m2  surface_covered_in_m2          203874   23.825239   \n",
       "floor                                  floor          818281   95.626418   \n",
       "rooms                                  rooms          293755   34.328963   \n",
       "expenses                            expenses          570255   66.641463   \n",
       "description                      description               2    0.000234   \n",
       "\n",
       "                          type  \n",
       "lat_lon                 object  \n",
       "lat                    float64  \n",
       "lon                    float64  \n",
       "surface_total_in_m2    float64  \n",
       "surface_covered_in_m2  float64  \n",
       "floor                  float64  \n",
       "rooms                  float64  \n",
       "expenses               float64  \n",
       "description             object  "
      ]
     },
     "execution_count": 82,
     "metadata": {},
     "output_type": "execute_result"
    }
   ],
   "source": [
    "missing_values.loc[missing_values['percentage']>0]"
   ]
  },
  {
   "attachments": {},
   "cell_type": "markdown",
   "id": "895d7c9b",
   "metadata": {},
   "source": [
    "Técnicas de _Missing Values Inputation_ funcionam bem somente quando a maioria dos valores está presente. Nesse caso, podemos retirar alguns atributos cuja presença de valores faltantes excede $50\\%$"
   ]
  },
  {
   "cell_type": "code",
   "execution_count": 83,
   "id": "128948c2",
   "metadata": {},
   "outputs": [],
   "source": [
    "columns_to_drop = missing_values.loc[missing_values['percentage']>50].index\n",
    "f_train = f_train.drop(columns_to_drop,axis=1)\n",
    "f_test = f_test.drop(columns_to_drop,axis=1)"
   ]
  },
  {
   "attachments": {},
   "cell_type": "markdown",
   "id": "d07dd4cb",
   "metadata": {},
   "source": [
    "O restante do conjunto de dados que iremos trabalhar é:"
   ]
  },
  {
   "cell_type": "code",
   "execution_count": 84,
   "id": "6b6da653",
   "metadata": {},
   "outputs": [
    {
     "data": {
      "text/html": [
       "<div>\n",
       "<style scoped>\n",
       "    .dataframe tbody tr th:only-of-type {\n",
       "        vertical-align: middle;\n",
       "    }\n",
       "\n",
       "    .dataframe tbody tr th {\n",
       "        vertical-align: top;\n",
       "    }\n",
       "\n",
       "    .dataframe thead th {\n",
       "        text-align: right;\n",
       "    }\n",
       "</style>\n",
       "<table border=\"1\" class=\"dataframe\">\n",
       "  <thead>\n",
       "    <tr style=\"text-align: right;\">\n",
       "      <th></th>\n",
       "      <th>created_on</th>\n",
       "      <th>property_type</th>\n",
       "      <th>place_name</th>\n",
       "      <th>place_with_parent_names</th>\n",
       "      <th>state_name</th>\n",
       "      <th>currency</th>\n",
       "      <th>surface_covered_in_m2</th>\n",
       "      <th>rooms</th>\n",
       "      <th>description</th>\n",
       "      <th>title</th>\n",
       "      <th>collected_on</th>\n",
       "    </tr>\n",
       "  </thead>\n",
       "  <tbody>\n",
       "    <tr>\n",
       "      <th>0</th>\n",
       "      <td>2017-05-05</td>\n",
       "      <td>apartment</td>\n",
       "      <td>Praia Grande</td>\n",
       "      <td>|Brasil|São Paulo|Praia Grande|</td>\n",
       "      <td>São Paulo</td>\n",
       "      <td>BRL</td>\n",
       "      <td>65.0</td>\n",
       "      <td>1.0</td>\n",
       "      <td>Apartamento de 2 dorms, sendo 1 suíte com vara...</td>\n",
       "      <td>Apartamento 2 dorms na Guilhermina</td>\n",
       "      <td>2017-06</td>\n",
       "    </tr>\n",
       "    <tr>\n",
       "      <th>1</th>\n",
       "      <td>2014-07-21</td>\n",
       "      <td>apartment</td>\n",
       "      <td>Vila Leopoldina</td>\n",
       "      <td>|Brasil|São Paulo|São Paulo|Vila Leopoldina|</td>\n",
       "      <td>São Paulo</td>\n",
       "      <td>BRL</td>\n",
       "      <td>75.0</td>\n",
       "      <td>2.0</td>\n",
       "      <td>Nao informado</td>\n",
       "      <td>Nao informado</td>\n",
       "      <td>2015-01</td>\n",
       "    </tr>\n",
       "    <tr>\n",
       "      <th>2</th>\n",
       "      <td>2015-08-15</td>\n",
       "      <td>house</td>\n",
       "      <td>Paulínia</td>\n",
       "      <td>|Brasil|São Paulo|Paulínia|</td>\n",
       "      <td>São Paulo</td>\n",
       "      <td>BRL</td>\n",
       "      <td>185.0</td>\n",
       "      <td>2.0</td>\n",
       "      <td>Casa Térrea, localizada no condomínio campos d...</td>\n",
       "      <td>Casa  residencial à venda, Condomínio Campos d...</td>\n",
       "      <td>2015-09</td>\n",
       "    </tr>\n",
       "    <tr>\n",
       "      <th>3</th>\n",
       "      <td>2017-04-16</td>\n",
       "      <td>house</td>\n",
       "      <td>São Francisco</td>\n",
       "      <td>|Brasil|Rio de Janeiro|Niterói|São Francisco|</td>\n",
       "      <td>Rio de Janeiro</td>\n",
       "      <td>BRL</td>\n",
       "      <td>176.0</td>\n",
       "      <td>NaN</td>\n",
       "      <td>Atualizado em 05/06/2017. Excelente casa linea...</td>\n",
       "      <td>Casa com 3 quartos e Jardim, Niterói, São Fran...</td>\n",
       "      <td>2017-06</td>\n",
       "    </tr>\n",
       "    <tr>\n",
       "      <th>4</th>\n",
       "      <td>2015-09-23</td>\n",
       "      <td>apartment</td>\n",
       "      <td>Vila Olímpia</td>\n",
       "      <td>|Brasil|São Paulo|São Paulo|Vila Olímpia|</td>\n",
       "      <td>São Paulo</td>\n",
       "      <td>BRL</td>\n",
       "      <td>127.0</td>\n",
       "      <td>1.0</td>\n",
       "      <td>Condomínio com ampla área de lazer : piscina a...</td>\n",
       "      <td>condominio com ampla area de lazer!!!</td>\n",
       "      <td>2015-11</td>\n",
       "    </tr>\n",
       "  </tbody>\n",
       "</table>\n",
       "</div>"
      ],
      "text/plain": [
       "   created_on property_type       place_name  \\\n",
       "0  2017-05-05     apartment     Praia Grande   \n",
       "1  2014-07-21     apartment  Vila Leopoldina   \n",
       "2  2015-08-15         house         Paulínia   \n",
       "3  2017-04-16         house    São Francisco   \n",
       "4  2015-09-23     apartment     Vila Olímpia   \n",
       "\n",
       "                         place_with_parent_names      state_name currency  \\\n",
       "0                |Brasil|São Paulo|Praia Grande|       São Paulo      BRL   \n",
       "1   |Brasil|São Paulo|São Paulo|Vila Leopoldina|       São Paulo      BRL   \n",
       "2                    |Brasil|São Paulo|Paulínia|       São Paulo      BRL   \n",
       "3  |Brasil|Rio de Janeiro|Niterói|São Francisco|  Rio de Janeiro      BRL   \n",
       "4      |Brasil|São Paulo|São Paulo|Vila Olímpia|       São Paulo      BRL   \n",
       "\n",
       "   surface_covered_in_m2  rooms  \\\n",
       "0                   65.0    1.0   \n",
       "1                   75.0    2.0   \n",
       "2                  185.0    2.0   \n",
       "3                  176.0    NaN   \n",
       "4                  127.0    1.0   \n",
       "\n",
       "                                         description  \\\n",
       "0  Apartamento de 2 dorms, sendo 1 suíte com vara...   \n",
       "1                                      Nao informado   \n",
       "2  Casa Térrea, localizada no condomínio campos d...   \n",
       "3  Atualizado em 05/06/2017. Excelente casa linea...   \n",
       "4  Condomínio com ampla área de lazer : piscina a...   \n",
       "\n",
       "                                               title collected_on  \n",
       "0                 Apartamento 2 dorms na Guilhermina      2017-06  \n",
       "1                                      Nao informado      2015-01  \n",
       "2  Casa  residencial à venda, Condomínio Campos d...      2015-09  \n",
       "3  Casa com 3 quartos e Jardim, Niterói, São Fran...      2017-06  \n",
       "4              condominio com ampla area de lazer!!!      2015-11  "
      ]
     },
     "execution_count": 84,
     "metadata": {},
     "output_type": "execute_result"
    }
   ],
   "source": [
    "f_train.head()"
   ]
  },
  {
   "attachments": {},
   "cell_type": "markdown",
   "id": "eab865d1",
   "metadata": {},
   "source": [
    "Por uma decisão de projeto, não iremos realizar o processamento de linguagem natural presente no atributo _description_ e _title_. Dessa forma iremos descartá-lo,"
   ]
  },
  {
   "cell_type": "code",
   "execution_count": 85,
   "id": "22b001a0",
   "metadata": {},
   "outputs": [],
   "source": [
    "f_train = f_train.drop(['description','title'],axis=1)\n",
    "f_test = f_test.drop(['description','title'],axis=1)"
   ]
  },
  {
   "cell_type": "code",
   "execution_count": 87,
   "id": "dbe161fb",
   "metadata": {},
   "outputs": [
    {
     "data": {
      "text/html": [
       "<div>\n",
       "<style scoped>\n",
       "    .dataframe tbody tr th:only-of-type {\n",
       "        vertical-align: middle;\n",
       "    }\n",
       "\n",
       "    .dataframe tbody tr th {\n",
       "        vertical-align: top;\n",
       "    }\n",
       "\n",
       "    .dataframe thead th {\n",
       "        text-align: right;\n",
       "    }\n",
       "</style>\n",
       "<table border=\"1\" class=\"dataframe\">\n",
       "  <thead>\n",
       "    <tr style=\"text-align: right;\">\n",
       "      <th></th>\n",
       "      <th>created_on</th>\n",
       "      <th>property_type</th>\n",
       "      <th>place_name</th>\n",
       "      <th>place_with_parent_names</th>\n",
       "      <th>state_name</th>\n",
       "      <th>currency</th>\n",
       "      <th>surface_covered_in_m2</th>\n",
       "      <th>rooms</th>\n",
       "      <th>collected_on</th>\n",
       "    </tr>\n",
       "  </thead>\n",
       "  <tbody>\n",
       "    <tr>\n",
       "      <th>0</th>\n",
       "      <td>2017-05-05</td>\n",
       "      <td>apartment</td>\n",
       "      <td>Praia Grande</td>\n",
       "      <td>|Brasil|São Paulo|Praia Grande|</td>\n",
       "      <td>São Paulo</td>\n",
       "      <td>BRL</td>\n",
       "      <td>65.0</td>\n",
       "      <td>1.0</td>\n",
       "      <td>2017-06</td>\n",
       "    </tr>\n",
       "    <tr>\n",
       "      <th>1</th>\n",
       "      <td>2014-07-21</td>\n",
       "      <td>apartment</td>\n",
       "      <td>Vila Leopoldina</td>\n",
       "      <td>|Brasil|São Paulo|São Paulo|Vila Leopoldina|</td>\n",
       "      <td>São Paulo</td>\n",
       "      <td>BRL</td>\n",
       "      <td>75.0</td>\n",
       "      <td>2.0</td>\n",
       "      <td>2015-01</td>\n",
       "    </tr>\n",
       "    <tr>\n",
       "      <th>2</th>\n",
       "      <td>2015-08-15</td>\n",
       "      <td>house</td>\n",
       "      <td>Paulínia</td>\n",
       "      <td>|Brasil|São Paulo|Paulínia|</td>\n",
       "      <td>São Paulo</td>\n",
       "      <td>BRL</td>\n",
       "      <td>185.0</td>\n",
       "      <td>2.0</td>\n",
       "      <td>2015-09</td>\n",
       "    </tr>\n",
       "    <tr>\n",
       "      <th>3</th>\n",
       "      <td>2017-04-16</td>\n",
       "      <td>house</td>\n",
       "      <td>São Francisco</td>\n",
       "      <td>|Brasil|Rio de Janeiro|Niterói|São Francisco|</td>\n",
       "      <td>Rio de Janeiro</td>\n",
       "      <td>BRL</td>\n",
       "      <td>176.0</td>\n",
       "      <td>NaN</td>\n",
       "      <td>2017-06</td>\n",
       "    </tr>\n",
       "    <tr>\n",
       "      <th>4</th>\n",
       "      <td>2015-09-23</td>\n",
       "      <td>apartment</td>\n",
       "      <td>Vila Olímpia</td>\n",
       "      <td>|Brasil|São Paulo|São Paulo|Vila Olímpia|</td>\n",
       "      <td>São Paulo</td>\n",
       "      <td>BRL</td>\n",
       "      <td>127.0</td>\n",
       "      <td>1.0</td>\n",
       "      <td>2015-11</td>\n",
       "    </tr>\n",
       "  </tbody>\n",
       "</table>\n",
       "</div>"
      ],
      "text/plain": [
       "   created_on property_type       place_name  \\\n",
       "0  2017-05-05     apartment     Praia Grande   \n",
       "1  2014-07-21     apartment  Vila Leopoldina   \n",
       "2  2015-08-15         house         Paulínia   \n",
       "3  2017-04-16         house    São Francisco   \n",
       "4  2015-09-23     apartment     Vila Olímpia   \n",
       "\n",
       "                         place_with_parent_names      state_name currency  \\\n",
       "0                |Brasil|São Paulo|Praia Grande|       São Paulo      BRL   \n",
       "1   |Brasil|São Paulo|São Paulo|Vila Leopoldina|       São Paulo      BRL   \n",
       "2                    |Brasil|São Paulo|Paulínia|       São Paulo      BRL   \n",
       "3  |Brasil|Rio de Janeiro|Niterói|São Francisco|  Rio de Janeiro      BRL   \n",
       "4      |Brasil|São Paulo|São Paulo|Vila Olímpia|       São Paulo      BRL   \n",
       "\n",
       "   surface_covered_in_m2  rooms collected_on  \n",
       "0                   65.0    1.0      2017-06  \n",
       "1                   75.0    2.0      2015-01  \n",
       "2                  185.0    2.0      2015-09  \n",
       "3                  176.0    NaN      2017-06  \n",
       "4                  127.0    1.0      2015-11  "
      ]
     },
     "execution_count": 87,
     "metadata": {},
     "output_type": "execute_result"
    }
   ],
   "source": [
    "f_train.head()"
   ]
  },
  {
   "attachments": {},
   "cell_type": "markdown",
   "id": "a90eaa0f",
   "metadata": {},
   "source": [
    "# Análise Exploratória dos dados"
   ]
  },
  {
   "attachments": {},
   "cell_type": "markdown",
   "id": "4789619e",
   "metadata": {},
   "source": [
    "Vamos analisar a coluna de descrição:"
   ]
  },
  {
   "cell_type": "code",
   "execution_count": 51,
   "id": "ae9b2c72",
   "metadata": {},
   "outputs": [
    {
     "data": {
      "text/plain": [
       "'Excelente Apto, com 2 dormitórios, 1 banheiro, prontinho para mudar!!  Sala em L com dois ambientes, piso laminado e teto com moldura de gesso.  Primeiro dormitório com piso laminado, teto com moldura de gesso e armários planejados.  Segundo dormitório com piso laminado, teto com moldura de gesso e armário embutido.  Banheiro social com piso de cerâmica, teto com moldura de gesso, pia de madeira com cuba sobreposta de porcelana, gabinete e box de vidro.  Cozinha com piso de cerâmica, pia de granito com gabinete e armários planejados.  Área de serviço com piso de cerâmica e armários planejados.  Brinquedoteca equipada  Salão de Festas equipado  Condomínio novo com 5 anos  Localização com acesso fácil para Rod Anchieta.   Vizinhança tranquila.  Bairro arborizado.  Próximo ás faculdades: UNIP (700 mts) / ANHANGUERA (2km).  Próximo á comércios e escolas: mercados, hipermercados (Extra/Carrefour), farmácias, escolas (colégio objetivo), entre outros'"
      ]
     },
     "execution_count": 51,
     "metadata": {},
     "output_type": "execute_result"
    }
   ],
   "source": [
    "f_train.loc[220,'description']"
   ]
  },
  {
   "attachments": {},
   "cell_type": "markdown",
   "id": "c28f02df",
   "metadata": {},
   "source": [
    "# Engenharia de Atributos"
   ]
  },
  {
   "attachments": {},
   "cell_type": "markdown",
   "id": "91aac9bf",
   "metadata": {},
   "source": []
  },
  {
   "attachments": {},
   "cell_type": "markdown",
   "id": "f0ff538b",
   "metadata": {},
   "source": [
    "# Escolha de Atributos"
   ]
  },
  {
   "attachments": {},
   "cell_type": "markdown",
   "id": "4a26f1e3",
   "metadata": {},
   "source": []
  },
  {
   "attachments": {},
   "cell_type": "markdown",
   "id": "b5b1673a",
   "metadata": {},
   "source": [
    "# Treinamento e Teste"
   ]
  },
  {
   "attachments": {},
   "cell_type": "markdown",
   "id": "2b8fb507",
   "metadata": {},
   "source": []
  },
  {
   "attachments": {},
   "cell_type": "markdown",
   "id": "0019c4d5",
   "metadata": {},
   "source": [
    "# Avaliação do Modelo"
   ]
  },
  {
   "attachments": {},
   "cell_type": "markdown",
   "id": "03ee9314",
   "metadata": {},
   "source": []
  },
  {
   "attachments": {},
   "cell_type": "markdown",
   "id": "016e1124",
   "metadata": {},
   "source": [
    "# Considerações Finais"
   ]
  },
  {
   "attachments": {},
   "cell_type": "markdown",
   "id": "d3687072",
   "metadata": {},
   "source": []
  }
 ],
 "metadata": {
  "kernelspec": {
   "display_name": "Python 3 (ipykernel)",
   "language": "python",
   "name": "python3"
  },
  "language_info": {
   "codemirror_mode": {
    "name": "ipython",
    "version": 3
   },
   "file_extension": ".py",
   "mimetype": "text/x-python",
   "name": "python",
   "nbconvert_exporter": "python",
   "pygments_lexer": "ipython3",
   "version": "3.11.2"
  }
 },
 "nbformat": 4,
 "nbformat_minor": 5
}
