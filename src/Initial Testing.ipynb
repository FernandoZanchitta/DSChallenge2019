{
 "cells": [
  {
   "attachments": {},
   "cell_type": "markdown",
   "id": "b62a449a",
   "metadata": {},
   "source": [
    "# Projeto de PO-233 \n",
    "Este projeto busca realizar análise do problema proposto pelo Data Science Challenge 2019 - ITA.\n",
    "\n",
    "##### Alunos:\n",
    "- Fernando Zanchitta\n",
    "- Davi Xie\n",
    "- Hugo Timóteo\n",
    "\n",
    "##### Dados\n",
    "Os dados podem ser adquiridos no site: https://www.kaggle.com/competitions/data-science-challenge-at-eef-2019/data\n",
    "\n"
   ]
  },
  {
   "attachments": {},
   "cell_type": "markdown",
   "id": "d482983d",
   "metadata": {},
   "source": [
    "## Bibliotecas necessárias"
   ]
  },
  {
   "cell_type": "code",
   "execution_count": 5,
   "id": "28632eb3",
   "metadata": {},
   "outputs": [],
   "source": [
    "import pandas as pd\n",
    "import seaborn as sns\n",
    "import numpy as np\n",
    "import os\n",
    "import matplotlib.pyplot as plt\n"
   ]
  },
  {
   "attachments": {},
   "cell_type": "markdown",
   "id": "79971a5c",
   "metadata": {},
   "source": [
    "### Leitura dos conjuntos de dados:\n",
    "Os dados são lidos a partir dos arquivos $.csv$ gerados pelo _SubSampling.py_."
   ]
  },
  {
   "cell_type": "code",
   "execution_count": 6,
   "id": "8aee8881",
   "metadata": {},
   "outputs": [],
   "source": [
    "f_train = pd.read_csv('../dataset/features-training-subsampled.csv')\n",
    "f_test = pd.read_csv('../dataset/features-test-subsampled.csv')\n",
    "t_train = pd.read_csv('../dataset/target-training-subsampled.csv')"
   ]
  },
  {
   "cell_type": "code",
   "execution_count": 7,
   "id": "9de3f36d",
   "metadata": {},
   "outputs": [
    {
     "data": {
      "text/plain": [
       "Index(['id', 'property_id', 'created_on', 'operation', 'property_type',\n",
       "       'place_name', 'place_with_parent_names', 'country_name', 'state_name',\n",
       "       'geonames_id', 'lat_lon', 'lat', 'lon', 'currency',\n",
       "       'surface_total_in_m2', 'surface_covered_in_m2', 'floor', 'rooms',\n",
       "       'expenses', 'description', 'title', 'image_thumbnail', 'collected_on'],\n",
       "      dtype='object')"
      ]
     },
     "execution_count": 7,
     "metadata": {},
     "output_type": "execute_result"
    }
   ],
   "source": [
    "f_train.columns"
   ]
  },
  {
   "attachments": {},
   "cell_type": "markdown",
   "id": "be70c670",
   "metadata": {},
   "source": [
    "# Limpeza e Organização\n",
    "\n",
    "Para começar a análise exploratória dos dados deve ser feita a retirada de atributos e informações que não serão utilizadas pelo projeto, a fins de simplificação e coerência com o proposto pela disciplina.\n",
    "\n",
    "Nesse sentido vamos:\n",
    "- Retirar as colunas com valores vazios: _\"geonames_id\"_\n",
    "- Retirar as colunas de imagens: _\"image_thumbnail\"_\n",
    "- ..."
   ]
  },
  {
   "cell_type": "code",
   "execution_count": null,
   "id": "a57c5584",
   "metadata": {},
   "outputs": [],
   "source": []
  },
  {
   "attachments": {},
   "cell_type": "markdown",
   "id": "a90eaa0f",
   "metadata": {},
   "source": [
    "# Análise Exploratória dos dados"
   ]
  },
  {
   "cell_type": "code",
   "execution_count": 9,
   "id": "634abbb5",
   "metadata": {},
   "outputs": [],
   "source": [
    "### Categorical Var:\n",
    "cat_train = f_train.select_dtypes(include=['object']).copy()\n",
    "\n",
    "### Numerical Var:\n",
    "num_train = f_train.select_dtypes(include=['float64', 'int64']).copy()"
   ]
  },
  {
   "cell_type": "code",
   "execution_count": 17,
   "id": "6a060045",
   "metadata": {},
   "outputs": [
    {
     "name": "stdout",
     "output_type": "stream",
     "text": [
      "property_id  :  161548\n",
      "created_on  :  1237\n",
      "operation  :  1\n",
      "property_type  :  4\n",
      "place_name  :  4107\n",
      "place_with_parent_names  :  5185\n",
      "country_name  :  1\n",
      "state_name  :  27\n",
      "lat_lon  :  34675\n",
      "currency  :  4\n",
      "description  :  150803\n",
      "title  :  113639\n",
      "image_thumbnail  :  155288\n",
      "collected_on  :  38\n",
      "operation:  ['sell']\n",
      "country_name:  ['Brasil']\n",
      "currency:  ['BRL' 'MXN' 'USD' 'COP']\n"
     ]
    }
   ],
   "source": [
    "for column in cat_train.columns:\n",
    "    print(column, ' : ', cat_train[column].nunique())\n",
    "\n"
   ]
  },
  {
   "cell_type": "code",
   "execution_count": 19,
   "id": "31c4f6e8",
   "metadata": {},
   "outputs": [
    {
     "name": "stdout",
     "output_type": "stream",
     "text": [
      "operation:  ['sell']\n",
      "country_name:  ['Brasil']\n",
      "currency:  ['BRL' 'MXN' 'USD' 'COP']\n"
     ]
    }
   ],
   "source": [
    "print('operation: ',cat_train.operation.unique())\n",
    "print('country_name: ',cat_train.country_name.unique())\n",
    "print('currency: ',cat_train.currency.unique())"
   ]
  },
  {
   "attachments": {},
   "cell_type": "markdown",
   "id": "0f13cb08",
   "metadata": {},
   "source": [
    "Podemos deletar as colunas *operation* e *country_name* que representam dados redundantes.\n"
   ]
  },
  {
   "cell_type": "code",
   "execution_count": 20,
   "id": "3657f4af",
   "metadata": {},
   "outputs": [
    {
     "name": "stdout",
     "output_type": "stream",
     "text": [
      "Numerical Var:\n",
      "id  :  171141\n",
      "geonames_id  :  0\n",
      "lat  :  34199\n",
      "lon  :  33454\n",
      "surface_total_in_m2  :  1395\n",
      "surface_covered_in_m2  :  1161\n",
      "floor  :  127\n",
      "rooms  :  27\n",
      "expenses  :  2432\n"
     ]
    }
   ],
   "source": [
    "# Numerical Var:\n",
    "print('Numerical Var:')\n",
    "for column in num_train.columns:\n",
    "    print(column, ' : ', num_train[column].nunique())"
   ]
  },
  {
   "cell_type": "code",
   "execution_count": null,
   "id": "4789619e",
   "metadata": {},
   "outputs": [],
   "source": []
  },
  {
   "attachments": {},
   "cell_type": "markdown",
   "id": "c28f02df",
   "metadata": {},
   "source": [
    "# Engenharia de Atributos"
   ]
  },
  {
   "attachments": {},
   "cell_type": "markdown",
   "id": "91aac9bf",
   "metadata": {},
   "source": []
  },
  {
   "attachments": {},
   "cell_type": "markdown",
   "id": "f0ff538b",
   "metadata": {},
   "source": [
    "# Escolha de Atributos"
   ]
  },
  {
   "attachments": {},
   "cell_type": "markdown",
   "id": "4a26f1e3",
   "metadata": {},
   "source": []
  },
  {
   "attachments": {},
   "cell_type": "markdown",
   "id": "b5b1673a",
   "metadata": {},
   "source": [
    "# Treinamento e Teste"
   ]
  },
  {
   "attachments": {},
   "cell_type": "markdown",
   "id": "2b8fb507",
   "metadata": {},
   "source": []
  },
  {
   "attachments": {},
   "cell_type": "markdown",
   "id": "0019c4d5",
   "metadata": {},
   "source": [
    "# Avaliação do Modelo"
   ]
  },
  {
   "attachments": {},
   "cell_type": "markdown",
   "id": "03ee9314",
   "metadata": {},
   "source": []
  },
  {
   "attachments": {},
   "cell_type": "markdown",
   "id": "016e1124",
   "metadata": {},
   "source": [
    "# Considerações Finais"
   ]
  },
  {
   "attachments": {},
   "cell_type": "markdown",
   "id": "d3687072",
   "metadata": {},
   "source": []
  }
 ],
 "metadata": {
  "kernelspec": {
   "display_name": "Python 3 (ipykernel)",
   "language": "python",
   "name": "python3"
  },
  "language_info": {
   "codemirror_mode": {
    "name": "ipython",
    "version": 3
   },
   "file_extension": ".py",
   "mimetype": "text/x-python",
   "name": "python",
   "nbconvert_exporter": "python",
   "pygments_lexer": "ipython3",
   "version": "3.11.2"
  }
 },
 "nbformat": 4,
 "nbformat_minor": 5
}
